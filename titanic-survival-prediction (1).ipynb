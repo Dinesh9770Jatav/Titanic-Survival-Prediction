{
 "cells": [
  {
   "cell_type": "markdown",
   "id": "790fced4",
   "metadata": {
    "papermill": {
     "duration": 0.01714,
     "end_time": "2023-08-17T16:22:31.659620",
     "exception": false,
     "start_time": "2023-08-17T16:22:31.642480",
     "status": "completed"
    },
    "tags": []
   },
   "source": [
    "<center>\n",
    "  <h1 style=\"background-color:green; color:white; font-size:40px; font-weight:bold; font-family:Times New Roman; border:2px solid black;\">TITANIC SURVIVAL PREDICTION</h1>\n",
    "</center>"
   ]
  },
  {
   "cell_type": "markdown",
   "id": "c29cb847",
   "metadata": {
    "papermill": {
     "duration": 0.016408,
     "end_time": "2023-08-17T16:22:31.693013",
     "exception": false,
     "start_time": "2023-08-17T16:22:31.676605",
     "status": "completed"
    },
    "tags": []
   },
   "source": [
    "<div style=\"text-align: center;\">\n",
    "    <img src=\"https://encrypted-tbn0.gstatic.com/images?q=tbn:ANd9GcRrpevMbgZeKM8WLQ_BRE5HCsrNLL4_IO1AlA&usqp=CAU\" style=\"width:1000px;\">\n",
    "</div>\n"
   ]
  },
  {
   "cell_type": "markdown",
   "id": "d5d8758c",
   "metadata": {
    "papermill": {
     "duration": 0.016176,
     "end_time": "2023-08-17T16:22:31.725430",
     "exception": false,
     "start_time": "2023-08-17T16:22:31.709254",
     "status": "completed"
    },
    "tags": []
   },
   "source": [
    "<h3>The dataset typically used for this project contains information\n",
    "about individual passengers, such as their age, gender, ticket\n",
    "class, fare, cabin, and whether or not they survived.</h3>"
   ]
  },
  {
   "cell_type": "markdown",
   "id": "98fcafd9",
   "metadata": {
    "papermill": {
     "duration": 0.017054,
     "end_time": "2023-08-17T16:22:31.758426",
     "exception": false,
     "start_time": "2023-08-17T16:22:31.741372",
     "status": "completed"
    },
    "tags": []
   },
   "source": [
    "<h3># Import necessary libraries</h3>"
   ]
  },
  {
   "cell_type": "code",
   "execution_count": 1,
   "id": "8598f3f4",
   "metadata": {
    "execution": {
     "iopub.execute_input": "2023-08-17T16:22:31.793090Z",
     "iopub.status.busy": "2023-08-17T16:22:31.792393Z",
     "iopub.status.idle": "2023-08-17T16:22:33.861060Z",
     "shell.execute_reply": "2023-08-17T16:22:33.859558Z"
    },
    "papermill": {
     "duration": 2.090145,
     "end_time": "2023-08-17T16:22:33.864165",
     "exception": false,
     "start_time": "2023-08-17T16:22:31.774020",
     "status": "completed"
    },
    "tags": []
   },
   "outputs": [
    {
     "name": "stderr",
     "output_type": "stream",
     "text": [
      "/opt/conda/lib/python3.10/site-packages/scipy/__init__.py:146: UserWarning: A NumPy version >=1.16.5 and <1.23.0 is required for this version of SciPy (detected version 1.23.5\n",
      "  warnings.warn(f\"A NumPy version >={np_minversion} and <{np_maxversion}\"\n"
     ]
    }
   ],
   "source": [
    "\n",
    "import numpy as np\n",
    "import pandas as pd\n",
    "import matplotlib.pyplot as plt\n",
    "import seaborn as sns\n",
    "from sklearn.model_selection import train_test_split\n",
    "from sklearn.linear_model import LogisticRegression\n",
    "from sklearn.metrics import accuracy_score"
   ]
  },
  {
   "cell_type": "code",
   "execution_count": 2,
   "id": "f877c065",
   "metadata": {
    "execution": {
     "iopub.execute_input": "2023-08-17T16:22:33.897810Z",
     "iopub.status.busy": "2023-08-17T16:22:33.897430Z",
     "iopub.status.idle": "2023-08-17T16:22:33.926455Z",
     "shell.execute_reply": "2023-08-17T16:22:33.925261Z"
    },
    "papermill": {
     "duration": 0.04868,
     "end_time": "2023-08-17T16:22:33.928979",
     "exception": false,
     "start_time": "2023-08-17T16:22:33.880299",
     "status": "completed"
    },
    "tags": []
   },
   "outputs": [],
   "source": [
    "\n",
    "# load the data from csv file to Pandas DataFrame\n",
    "titanic_data = pd.read_csv('/kaggle/input/titanic/train.csv')"
   ]
  },
  {
   "cell_type": "code",
   "execution_count": 3,
   "id": "0de9ee66",
   "metadata": {
    "execution": {
     "iopub.execute_input": "2023-08-17T16:22:33.962473Z",
     "iopub.status.busy": "2023-08-17T16:22:33.962026Z",
     "iopub.status.idle": "2023-08-17T16:22:33.993376Z",
     "shell.execute_reply": "2023-08-17T16:22:33.992025Z"
    },
    "papermill": {
     "duration": 0.051387,
     "end_time": "2023-08-17T16:22:33.996318",
     "exception": false,
     "start_time": "2023-08-17T16:22:33.944931",
     "status": "completed"
    },
    "tags": []
   },
   "outputs": [
    {
     "data": {
      "text/html": [
       "<div>\n",
       "<style scoped>\n",
       "    .dataframe tbody tr th:only-of-type {\n",
       "        vertical-align: middle;\n",
       "    }\n",
       "\n",
       "    .dataframe tbody tr th {\n",
       "        vertical-align: top;\n",
       "    }\n",
       "\n",
       "    .dataframe thead th {\n",
       "        text-align: right;\n",
       "    }\n",
       "</style>\n",
       "<table border=\"1\" class=\"dataframe\">\n",
       "  <thead>\n",
       "    <tr style=\"text-align: right;\">\n",
       "      <th></th>\n",
       "      <th>PassengerId</th>\n",
       "      <th>Survived</th>\n",
       "      <th>Pclass</th>\n",
       "      <th>Name</th>\n",
       "      <th>Sex</th>\n",
       "      <th>Age</th>\n",
       "      <th>SibSp</th>\n",
       "      <th>Parch</th>\n",
       "      <th>Ticket</th>\n",
       "      <th>Fare</th>\n",
       "      <th>Cabin</th>\n",
       "      <th>Embarked</th>\n",
       "    </tr>\n",
       "  </thead>\n",
       "  <tbody>\n",
       "    <tr>\n",
       "      <th>0</th>\n",
       "      <td>1</td>\n",
       "      <td>0</td>\n",
       "      <td>3</td>\n",
       "      <td>Braund, Mr. Owen Harris</td>\n",
       "      <td>male</td>\n",
       "      <td>22.0</td>\n",
       "      <td>1</td>\n",
       "      <td>0</td>\n",
       "      <td>A/5 21171</td>\n",
       "      <td>7.2500</td>\n",
       "      <td>NaN</td>\n",
       "      <td>S</td>\n",
       "    </tr>\n",
       "    <tr>\n",
       "      <th>1</th>\n",
       "      <td>2</td>\n",
       "      <td>1</td>\n",
       "      <td>1</td>\n",
       "      <td>Cumings, Mrs. John Bradley (Florence Briggs Th...</td>\n",
       "      <td>female</td>\n",
       "      <td>38.0</td>\n",
       "      <td>1</td>\n",
       "      <td>0</td>\n",
       "      <td>PC 17599</td>\n",
       "      <td>71.2833</td>\n",
       "      <td>C85</td>\n",
       "      <td>C</td>\n",
       "    </tr>\n",
       "    <tr>\n",
       "      <th>2</th>\n",
       "      <td>3</td>\n",
       "      <td>1</td>\n",
       "      <td>3</td>\n",
       "      <td>Heikkinen, Miss. Laina</td>\n",
       "      <td>female</td>\n",
       "      <td>26.0</td>\n",
       "      <td>0</td>\n",
       "      <td>0</td>\n",
       "      <td>STON/O2. 3101282</td>\n",
       "      <td>7.9250</td>\n",
       "      <td>NaN</td>\n",
       "      <td>S</td>\n",
       "    </tr>\n",
       "    <tr>\n",
       "      <th>3</th>\n",
       "      <td>4</td>\n",
       "      <td>1</td>\n",
       "      <td>1</td>\n",
       "      <td>Futrelle, Mrs. Jacques Heath (Lily May Peel)</td>\n",
       "      <td>female</td>\n",
       "      <td>35.0</td>\n",
       "      <td>1</td>\n",
       "      <td>0</td>\n",
       "      <td>113803</td>\n",
       "      <td>53.1000</td>\n",
       "      <td>C123</td>\n",
       "      <td>S</td>\n",
       "    </tr>\n",
       "    <tr>\n",
       "      <th>4</th>\n",
       "      <td>5</td>\n",
       "      <td>0</td>\n",
       "      <td>3</td>\n",
       "      <td>Allen, Mr. William Henry</td>\n",
       "      <td>male</td>\n",
       "      <td>35.0</td>\n",
       "      <td>0</td>\n",
       "      <td>0</td>\n",
       "      <td>373450</td>\n",
       "      <td>8.0500</td>\n",
       "      <td>NaN</td>\n",
       "      <td>S</td>\n",
       "    </tr>\n",
       "  </tbody>\n",
       "</table>\n",
       "</div>"
      ],
      "text/plain": [
       "   PassengerId  Survived  Pclass  \\\n",
       "0            1         0       3   \n",
       "1            2         1       1   \n",
       "2            3         1       3   \n",
       "3            4         1       1   \n",
       "4            5         0       3   \n",
       "\n",
       "                                                Name     Sex   Age  SibSp  \\\n",
       "0                            Braund, Mr. Owen Harris    male  22.0      1   \n",
       "1  Cumings, Mrs. John Bradley (Florence Briggs Th...  female  38.0      1   \n",
       "2                             Heikkinen, Miss. Laina  female  26.0      0   \n",
       "3       Futrelle, Mrs. Jacques Heath (Lily May Peel)  female  35.0      1   \n",
       "4                           Allen, Mr. William Henry    male  35.0      0   \n",
       "\n",
       "   Parch            Ticket     Fare Cabin Embarked  \n",
       "0      0         A/5 21171   7.2500   NaN        S  \n",
       "1      0          PC 17599  71.2833   C85        C  \n",
       "2      0  STON/O2. 3101282   7.9250   NaN        S  \n",
       "3      0            113803  53.1000  C123        S  \n",
       "4      0            373450   8.0500   NaN        S  "
      ]
     },
     "execution_count": 3,
     "metadata": {},
     "output_type": "execute_result"
    }
   ],
   "source": [
    "# printing the first 5 rows of the dataframe\n",
    "titanic_data.head()"
   ]
  },
  {
   "cell_type": "code",
   "execution_count": 4,
   "id": "bfcda3c3",
   "metadata": {
    "execution": {
     "iopub.execute_input": "2023-08-17T16:22:34.031365Z",
     "iopub.status.busy": "2023-08-17T16:22:34.030917Z",
     "iopub.status.idle": "2023-08-17T16:22:34.038193Z",
     "shell.execute_reply": "2023-08-17T16:22:34.036959Z"
    },
    "papermill": {
     "duration": 0.028351,
     "end_time": "2023-08-17T16:22:34.040818",
     "exception": false,
     "start_time": "2023-08-17T16:22:34.012467",
     "status": "completed"
    },
    "tags": []
   },
   "outputs": [
    {
     "data": {
      "text/plain": [
       "(891, 12)"
      ]
     },
     "execution_count": 4,
     "metadata": {},
     "output_type": "execute_result"
    }
   ],
   "source": [
    "# number of rows and Columns\n",
    "titanic_data.shape"
   ]
  },
  {
   "cell_type": "code",
   "execution_count": 5,
   "id": "d769ca79",
   "metadata": {
    "execution": {
     "iopub.execute_input": "2023-08-17T16:22:34.075124Z",
     "iopub.status.busy": "2023-08-17T16:22:34.074687Z",
     "iopub.status.idle": "2023-08-17T16:22:34.103912Z",
     "shell.execute_reply": "2023-08-17T16:22:34.102302Z"
    },
    "papermill": {
     "duration": 0.049735,
     "end_time": "2023-08-17T16:22:34.106718",
     "exception": false,
     "start_time": "2023-08-17T16:22:34.056983",
     "status": "completed"
    },
    "tags": []
   },
   "outputs": [
    {
     "name": "stdout",
     "output_type": "stream",
     "text": [
      "<class 'pandas.core.frame.DataFrame'>\n",
      "RangeIndex: 891 entries, 0 to 890\n",
      "Data columns (total 12 columns):\n",
      " #   Column       Non-Null Count  Dtype  \n",
      "---  ------       --------------  -----  \n",
      " 0   PassengerId  891 non-null    int64  \n",
      " 1   Survived     891 non-null    int64  \n",
      " 2   Pclass       891 non-null    int64  \n",
      " 3   Name         891 non-null    object \n",
      " 4   Sex          891 non-null    object \n",
      " 5   Age          714 non-null    float64\n",
      " 6   SibSp        891 non-null    int64  \n",
      " 7   Parch        891 non-null    int64  \n",
      " 8   Ticket       891 non-null    object \n",
      " 9   Fare         891 non-null    float64\n",
      " 10  Cabin        204 non-null    object \n",
      " 11  Embarked     889 non-null    object \n",
      "dtypes: float64(2), int64(5), object(5)\n",
      "memory usage: 83.7+ KB\n"
     ]
    }
   ],
   "source": [
    "# getting some informations about the data\n",
    "titanic_data.info()"
   ]
  },
  {
   "cell_type": "code",
   "execution_count": 6,
   "id": "978c5b17",
   "metadata": {
    "execution": {
     "iopub.execute_input": "2023-08-17T16:22:34.141250Z",
     "iopub.status.busy": "2023-08-17T16:22:34.140768Z",
     "iopub.status.idle": "2023-08-17T16:22:34.152865Z",
     "shell.execute_reply": "2023-08-17T16:22:34.151589Z"
    },
    "papermill": {
     "duration": 0.032572,
     "end_time": "2023-08-17T16:22:34.155606",
     "exception": false,
     "start_time": "2023-08-17T16:22:34.123034",
     "status": "completed"
    },
    "tags": []
   },
   "outputs": [
    {
     "data": {
      "text/plain": [
       "PassengerId      0\n",
       "Survived         0\n",
       "Pclass           0\n",
       "Name             0\n",
       "Sex              0\n",
       "Age            177\n",
       "SibSp            0\n",
       "Parch            0\n",
       "Ticket           0\n",
       "Fare             0\n",
       "Cabin          687\n",
       "Embarked         2\n",
       "dtype: int64"
      ]
     },
     "execution_count": 6,
     "metadata": {},
     "output_type": "execute_result"
    }
   ],
   "source": [
    "\n",
    "# check the number of missing values in each column\n",
    "titanic_data.isnull().sum()"
   ]
  },
  {
   "cell_type": "code",
   "execution_count": 7,
   "id": "b8877f18",
   "metadata": {
    "execution": {
     "iopub.execute_input": "2023-08-17T16:22:34.191162Z",
     "iopub.status.busy": "2023-08-17T16:22:34.190597Z",
     "iopub.status.idle": "2023-08-17T16:22:34.198569Z",
     "shell.execute_reply": "2023-08-17T16:22:34.197666Z"
    },
    "papermill": {
     "duration": 0.028247,
     "end_time": "2023-08-17T16:22:34.200739",
     "exception": false,
     "start_time": "2023-08-17T16:22:34.172492",
     "status": "completed"
    },
    "tags": []
   },
   "outputs": [],
   "source": [
    "# drop the \"Cabin\" column from the dataframe\n",
    "titanic_data = titanic_data.drop(columns='Cabin', axis=1)"
   ]
  },
  {
   "cell_type": "code",
   "execution_count": 8,
   "id": "2ad79c3a",
   "metadata": {
    "execution": {
     "iopub.execute_input": "2023-08-17T16:22:34.236765Z",
     "iopub.status.busy": "2023-08-17T16:22:34.236340Z",
     "iopub.status.idle": "2023-08-17T16:22:34.242586Z",
     "shell.execute_reply": "2023-08-17T16:22:34.241755Z"
    },
    "papermill": {
     "duration": 0.027637,
     "end_time": "2023-08-17T16:22:34.244790",
     "exception": false,
     "start_time": "2023-08-17T16:22:34.217153",
     "status": "completed"
    },
    "tags": []
   },
   "outputs": [],
   "source": [
    "# replacing the missing values in \"Age\" column with mean value\n",
    "titanic_data['Age'].fillna(titanic_data['Age'].mean(), inplace=True)\n",
    "     \n"
   ]
  },
  {
   "cell_type": "code",
   "execution_count": 9,
   "id": "aa46379f",
   "metadata": {
    "execution": {
     "iopub.execute_input": "2023-08-17T16:22:34.279857Z",
     "iopub.status.busy": "2023-08-17T16:22:34.279008Z",
     "iopub.status.idle": "2023-08-17T16:22:34.286346Z",
     "shell.execute_reply": "2023-08-17T16:22:34.285346Z"
    },
    "papermill": {
     "duration": 0.027424,
     "end_time": "2023-08-17T16:22:34.288869",
     "exception": false,
     "start_time": "2023-08-17T16:22:34.261445",
     "status": "completed"
    },
    "tags": []
   },
   "outputs": [
    {
     "name": "stdout",
     "output_type": "stream",
     "text": [
      "0    S\n",
      "Name: Embarked, dtype: object\n"
     ]
    }
   ],
   "source": [
    "\n",
    "# finding the mode value of \"Embarked\" column\n",
    "print(titanic_data['Embarked'].mode())"
   ]
  },
  {
   "cell_type": "code",
   "execution_count": 10,
   "id": "963d8715",
   "metadata": {
    "execution": {
     "iopub.execute_input": "2023-08-17T16:22:34.324673Z",
     "iopub.status.busy": "2023-08-17T16:22:34.324247Z",
     "iopub.status.idle": "2023-08-17T16:22:34.331290Z",
     "shell.execute_reply": "2023-08-17T16:22:34.329496Z"
    },
    "papermill": {
     "duration": 0.027957,
     "end_time": "2023-08-17T16:22:34.333484",
     "exception": false,
     "start_time": "2023-08-17T16:22:34.305527",
     "status": "completed"
    },
    "tags": []
   },
   "outputs": [
    {
     "name": "stdout",
     "output_type": "stream",
     "text": [
      "S\n"
     ]
    }
   ],
   "source": [
    "\n",
    "print(titanic_data['Embarked'].mode()[0])"
   ]
  },
  {
   "cell_type": "code",
   "execution_count": 11,
   "id": "4394eeb3",
   "metadata": {
    "execution": {
     "iopub.execute_input": "2023-08-17T16:22:34.367953Z",
     "iopub.status.busy": "2023-08-17T16:22:34.367534Z",
     "iopub.status.idle": "2023-08-17T16:22:34.374369Z",
     "shell.execute_reply": "2023-08-17T16:22:34.373282Z"
    },
    "papermill": {
     "duration": 0.026599,
     "end_time": "2023-08-17T16:22:34.376606",
     "exception": false,
     "start_time": "2023-08-17T16:22:34.350007",
     "status": "completed"
    },
    "tags": []
   },
   "outputs": [],
   "source": [
    "# replacing the missing values in \"Embarked\" column with mode value\n",
    "titanic_data['Embarked'].fillna(titanic_data['Embarked'].mode()[0], inplace=True)\n",
    "     \n"
   ]
  },
  {
   "cell_type": "code",
   "execution_count": 12,
   "id": "d7aa7ec7",
   "metadata": {
    "execution": {
     "iopub.execute_input": "2023-08-17T16:22:34.411722Z",
     "iopub.status.busy": "2023-08-17T16:22:34.411291Z",
     "iopub.status.idle": "2023-08-17T16:22:34.421518Z",
     "shell.execute_reply": "2023-08-17T16:22:34.420709Z"
    },
    "papermill": {
     "duration": 0.03039,
     "end_time": "2023-08-17T16:22:34.423625",
     "exception": false,
     "start_time": "2023-08-17T16:22:34.393235",
     "status": "completed"
    },
    "tags": []
   },
   "outputs": [
    {
     "data": {
      "text/plain": [
       "PassengerId    0\n",
       "Survived       0\n",
       "Pclass         0\n",
       "Name           0\n",
       "Sex            0\n",
       "Age            0\n",
       "SibSp          0\n",
       "Parch          0\n",
       "Ticket         0\n",
       "Fare           0\n",
       "Embarked       0\n",
       "dtype: int64"
      ]
     },
     "execution_count": 12,
     "metadata": {},
     "output_type": "execute_result"
    }
   ],
   "source": [
    "# check the number of missing values in each column\n",
    "titanic_data.isnull().sum()\n"
   ]
  },
  {
   "cell_type": "code",
   "execution_count": 13,
   "id": "03f907a9",
   "metadata": {
    "execution": {
     "iopub.execute_input": "2023-08-17T16:22:34.458423Z",
     "iopub.status.busy": "2023-08-17T16:22:34.458002Z",
     "iopub.status.idle": "2023-08-17T16:22:34.496405Z",
     "shell.execute_reply": "2023-08-17T16:22:34.495159Z"
    },
    "papermill": {
     "duration": 0.05934,
     "end_time": "2023-08-17T16:22:34.499374",
     "exception": false,
     "start_time": "2023-08-17T16:22:34.440034",
     "status": "completed"
    },
    "tags": []
   },
   "outputs": [
    {
     "data": {
      "text/html": [
       "<div>\n",
       "<style scoped>\n",
       "    .dataframe tbody tr th:only-of-type {\n",
       "        vertical-align: middle;\n",
       "    }\n",
       "\n",
       "    .dataframe tbody tr th {\n",
       "        vertical-align: top;\n",
       "    }\n",
       "\n",
       "    .dataframe thead th {\n",
       "        text-align: right;\n",
       "    }\n",
       "</style>\n",
       "<table border=\"1\" class=\"dataframe\">\n",
       "  <thead>\n",
       "    <tr style=\"text-align: right;\">\n",
       "      <th></th>\n",
       "      <th>PassengerId</th>\n",
       "      <th>Survived</th>\n",
       "      <th>Pclass</th>\n",
       "      <th>Age</th>\n",
       "      <th>SibSp</th>\n",
       "      <th>Parch</th>\n",
       "      <th>Fare</th>\n",
       "    </tr>\n",
       "  </thead>\n",
       "  <tbody>\n",
       "    <tr>\n",
       "      <th>count</th>\n",
       "      <td>891.000000</td>\n",
       "      <td>891.000000</td>\n",
       "      <td>891.000000</td>\n",
       "      <td>891.000000</td>\n",
       "      <td>891.000000</td>\n",
       "      <td>891.000000</td>\n",
       "      <td>891.000000</td>\n",
       "    </tr>\n",
       "    <tr>\n",
       "      <th>mean</th>\n",
       "      <td>446.000000</td>\n",
       "      <td>0.383838</td>\n",
       "      <td>2.308642</td>\n",
       "      <td>29.699118</td>\n",
       "      <td>0.523008</td>\n",
       "      <td>0.381594</td>\n",
       "      <td>32.204208</td>\n",
       "    </tr>\n",
       "    <tr>\n",
       "      <th>std</th>\n",
       "      <td>257.353842</td>\n",
       "      <td>0.486592</td>\n",
       "      <td>0.836071</td>\n",
       "      <td>13.002015</td>\n",
       "      <td>1.102743</td>\n",
       "      <td>0.806057</td>\n",
       "      <td>49.693429</td>\n",
       "    </tr>\n",
       "    <tr>\n",
       "      <th>min</th>\n",
       "      <td>1.000000</td>\n",
       "      <td>0.000000</td>\n",
       "      <td>1.000000</td>\n",
       "      <td>0.420000</td>\n",
       "      <td>0.000000</td>\n",
       "      <td>0.000000</td>\n",
       "      <td>0.000000</td>\n",
       "    </tr>\n",
       "    <tr>\n",
       "      <th>25%</th>\n",
       "      <td>223.500000</td>\n",
       "      <td>0.000000</td>\n",
       "      <td>2.000000</td>\n",
       "      <td>22.000000</td>\n",
       "      <td>0.000000</td>\n",
       "      <td>0.000000</td>\n",
       "      <td>7.910400</td>\n",
       "    </tr>\n",
       "    <tr>\n",
       "      <th>50%</th>\n",
       "      <td>446.000000</td>\n",
       "      <td>0.000000</td>\n",
       "      <td>3.000000</td>\n",
       "      <td>29.699118</td>\n",
       "      <td>0.000000</td>\n",
       "      <td>0.000000</td>\n",
       "      <td>14.454200</td>\n",
       "    </tr>\n",
       "    <tr>\n",
       "      <th>75%</th>\n",
       "      <td>668.500000</td>\n",
       "      <td>1.000000</td>\n",
       "      <td>3.000000</td>\n",
       "      <td>35.000000</td>\n",
       "      <td>1.000000</td>\n",
       "      <td>0.000000</td>\n",
       "      <td>31.000000</td>\n",
       "    </tr>\n",
       "    <tr>\n",
       "      <th>max</th>\n",
       "      <td>891.000000</td>\n",
       "      <td>1.000000</td>\n",
       "      <td>3.000000</td>\n",
       "      <td>80.000000</td>\n",
       "      <td>8.000000</td>\n",
       "      <td>6.000000</td>\n",
       "      <td>512.329200</td>\n",
       "    </tr>\n",
       "  </tbody>\n",
       "</table>\n",
       "</div>"
      ],
      "text/plain": [
       "       PassengerId    Survived      Pclass         Age       SibSp  \\\n",
       "count   891.000000  891.000000  891.000000  891.000000  891.000000   \n",
       "mean    446.000000    0.383838    2.308642   29.699118    0.523008   \n",
       "std     257.353842    0.486592    0.836071   13.002015    1.102743   \n",
       "min       1.000000    0.000000    1.000000    0.420000    0.000000   \n",
       "25%     223.500000    0.000000    2.000000   22.000000    0.000000   \n",
       "50%     446.000000    0.000000    3.000000   29.699118    0.000000   \n",
       "75%     668.500000    1.000000    3.000000   35.000000    1.000000   \n",
       "max     891.000000    1.000000    3.000000   80.000000    8.000000   \n",
       "\n",
       "            Parch        Fare  \n",
       "count  891.000000  891.000000  \n",
       "mean     0.381594   32.204208  \n",
       "std      0.806057   49.693429  \n",
       "min      0.000000    0.000000  \n",
       "25%      0.000000    7.910400  \n",
       "50%      0.000000   14.454200  \n",
       "75%      0.000000   31.000000  \n",
       "max      6.000000  512.329200  "
      ]
     },
     "execution_count": 13,
     "metadata": {},
     "output_type": "execute_result"
    }
   ],
   "source": [
    "\n",
    "# getting some statistical measures about the data\n",
    "titanic_data.describe()"
   ]
  },
  {
   "cell_type": "code",
   "execution_count": 14,
   "id": "9370aea9",
   "metadata": {
    "execution": {
     "iopub.execute_input": "2023-08-17T16:22:34.535327Z",
     "iopub.status.busy": "2023-08-17T16:22:34.534887Z",
     "iopub.status.idle": "2023-08-17T16:22:34.544626Z",
     "shell.execute_reply": "2023-08-17T16:22:34.543503Z"
    },
    "papermill": {
     "duration": 0.030796,
     "end_time": "2023-08-17T16:22:34.547369",
     "exception": false,
     "start_time": "2023-08-17T16:22:34.516573",
     "status": "completed"
    },
    "tags": []
   },
   "outputs": [
    {
     "data": {
      "text/plain": [
       "0    549\n",
       "1    342\n",
       "Name: Survived, dtype: int64"
      ]
     },
     "execution_count": 14,
     "metadata": {},
     "output_type": "execute_result"
    }
   ],
   "source": [
    "# finding the number of people survived and not survived\n",
    "titanic_data['Survived'].value_counts()"
   ]
  },
  {
   "cell_type": "code",
   "execution_count": 15,
   "id": "1b446845",
   "metadata": {
    "execution": {
     "iopub.execute_input": "2023-08-17T16:22:34.583998Z",
     "iopub.status.busy": "2023-08-17T16:22:34.583577Z",
     "iopub.status.idle": "2023-08-17T16:22:34.589560Z",
     "shell.execute_reply": "2023-08-17T16:22:34.588375Z"
    },
    "papermill": {
     "duration": 0.027454,
     "end_time": "2023-08-17T16:22:34.592236",
     "exception": false,
     "start_time": "2023-08-17T16:22:34.564782",
     "status": "completed"
    },
    "tags": []
   },
   "outputs": [],
   "source": [
    "\n",
    "sns.set()"
   ]
  },
  {
   "cell_type": "markdown",
   "id": "6835d15d",
   "metadata": {
    "papermill": {
     "duration": 0.016835,
     "end_time": "2023-08-17T16:22:34.626321",
     "exception": false,
     "start_time": "2023-08-17T16:22:34.609486",
     "status": "completed"
    },
    "tags": []
   },
   "source": [
    "<h2>Exploratory data analysis</h2>"
   ]
  },
  {
   "cell_type": "code",
   "execution_count": 16,
   "id": "bc577458",
   "metadata": {
    "execution": {
     "iopub.execute_input": "2023-08-17T16:22:34.663384Z",
     "iopub.status.busy": "2023-08-17T16:22:34.662961Z",
     "iopub.status.idle": "2023-08-17T16:22:34.669513Z",
     "shell.execute_reply": "2023-08-17T16:22:34.668681Z"
    },
    "papermill": {
     "duration": 0.027648,
     "end_time": "2023-08-17T16:22:34.672007",
     "exception": false,
     "start_time": "2023-08-17T16:22:34.644359",
     "status": "completed"
    },
    "tags": []
   },
   "outputs": [
    {
     "data": {
      "text/plain": [
       "(891, 11)"
      ]
     },
     "execution_count": 16,
     "metadata": {},
     "output_type": "execute_result"
    }
   ],
   "source": [
    "titanic_data.shape"
   ]
  },
  {
   "cell_type": "code",
   "execution_count": 17,
   "id": "804b6bfd",
   "metadata": {
    "execution": {
     "iopub.execute_input": "2023-08-17T16:22:34.708742Z",
     "iopub.status.busy": "2023-08-17T16:22:34.708332Z",
     "iopub.status.idle": "2023-08-17T16:22:34.718454Z",
     "shell.execute_reply": "2023-08-17T16:22:34.717097Z"
    },
    "papermill": {
     "duration": 0.031677,
     "end_time": "2023-08-17T16:22:34.720983",
     "exception": false,
     "start_time": "2023-08-17T16:22:34.689306",
     "status": "completed"
    },
    "tags": []
   },
   "outputs": [
    {
     "data": {
      "text/plain": [
       "0    61.616162\n",
       "1    38.383838\n",
       "Name: Survived, dtype: float64"
      ]
     },
     "execution_count": 17,
     "metadata": {},
     "output_type": "execute_result"
    }
   ],
   "source": [
    "titanic_data.Survived.value_counts()/len(titanic_data)*100\n",
    "#This signifies almost 61% people in the ship died and 38% survived."
   ]
  },
  {
   "cell_type": "code",
   "execution_count": 18,
   "id": "d5fae0bf",
   "metadata": {
    "execution": {
     "iopub.execute_input": "2023-08-17T16:22:34.758905Z",
     "iopub.status.busy": "2023-08-17T16:22:34.758492Z",
     "iopub.status.idle": "2023-08-17T16:22:34.795670Z",
     "shell.execute_reply": "2023-08-17T16:22:34.794354Z"
    },
    "papermill": {
     "duration": 0.059478,
     "end_time": "2023-08-17T16:22:34.798246",
     "exception": false,
     "start_time": "2023-08-17T16:22:34.738768",
     "status": "completed"
    },
    "tags": []
   },
   "outputs": [
    {
     "data": {
      "text/html": [
       "<div>\n",
       "<style scoped>\n",
       "    .dataframe tbody tr th:only-of-type {\n",
       "        vertical-align: middle;\n",
       "    }\n",
       "\n",
       "    .dataframe tbody tr th {\n",
       "        vertical-align: top;\n",
       "    }\n",
       "\n",
       "    .dataframe thead th {\n",
       "        text-align: right;\n",
       "    }\n",
       "</style>\n",
       "<table border=\"1\" class=\"dataframe\">\n",
       "  <thead>\n",
       "    <tr style=\"text-align: right;\">\n",
       "      <th></th>\n",
       "      <th>PassengerId</th>\n",
       "      <th>Survived</th>\n",
       "      <th>Pclass</th>\n",
       "      <th>Age</th>\n",
       "      <th>SibSp</th>\n",
       "      <th>Parch</th>\n",
       "      <th>Fare</th>\n",
       "    </tr>\n",
       "  </thead>\n",
       "  <tbody>\n",
       "    <tr>\n",
       "      <th>count</th>\n",
       "      <td>891.000000</td>\n",
       "      <td>891.000000</td>\n",
       "      <td>891.000000</td>\n",
       "      <td>891.000000</td>\n",
       "      <td>891.000000</td>\n",
       "      <td>891.000000</td>\n",
       "      <td>891.000000</td>\n",
       "    </tr>\n",
       "    <tr>\n",
       "      <th>mean</th>\n",
       "      <td>446.000000</td>\n",
       "      <td>0.383838</td>\n",
       "      <td>2.308642</td>\n",
       "      <td>29.699118</td>\n",
       "      <td>0.523008</td>\n",
       "      <td>0.381594</td>\n",
       "      <td>32.204208</td>\n",
       "    </tr>\n",
       "    <tr>\n",
       "      <th>std</th>\n",
       "      <td>257.353842</td>\n",
       "      <td>0.486592</td>\n",
       "      <td>0.836071</td>\n",
       "      <td>13.002015</td>\n",
       "      <td>1.102743</td>\n",
       "      <td>0.806057</td>\n",
       "      <td>49.693429</td>\n",
       "    </tr>\n",
       "    <tr>\n",
       "      <th>min</th>\n",
       "      <td>1.000000</td>\n",
       "      <td>0.000000</td>\n",
       "      <td>1.000000</td>\n",
       "      <td>0.420000</td>\n",
       "      <td>0.000000</td>\n",
       "      <td>0.000000</td>\n",
       "      <td>0.000000</td>\n",
       "    </tr>\n",
       "    <tr>\n",
       "      <th>25%</th>\n",
       "      <td>223.500000</td>\n",
       "      <td>0.000000</td>\n",
       "      <td>2.000000</td>\n",
       "      <td>22.000000</td>\n",
       "      <td>0.000000</td>\n",
       "      <td>0.000000</td>\n",
       "      <td>7.910400</td>\n",
       "    </tr>\n",
       "    <tr>\n",
       "      <th>50%</th>\n",
       "      <td>446.000000</td>\n",
       "      <td>0.000000</td>\n",
       "      <td>3.000000</td>\n",
       "      <td>29.699118</td>\n",
       "      <td>0.000000</td>\n",
       "      <td>0.000000</td>\n",
       "      <td>14.454200</td>\n",
       "    </tr>\n",
       "    <tr>\n",
       "      <th>75%</th>\n",
       "      <td>668.500000</td>\n",
       "      <td>1.000000</td>\n",
       "      <td>3.000000</td>\n",
       "      <td>35.000000</td>\n",
       "      <td>1.000000</td>\n",
       "      <td>0.000000</td>\n",
       "      <td>31.000000</td>\n",
       "    </tr>\n",
       "    <tr>\n",
       "      <th>max</th>\n",
       "      <td>891.000000</td>\n",
       "      <td>1.000000</td>\n",
       "      <td>3.000000</td>\n",
       "      <td>80.000000</td>\n",
       "      <td>8.000000</td>\n",
       "      <td>6.000000</td>\n",
       "      <td>512.329200</td>\n",
       "    </tr>\n",
       "  </tbody>\n",
       "</table>\n",
       "</div>"
      ],
      "text/plain": [
       "       PassengerId    Survived      Pclass         Age       SibSp  \\\n",
       "count   891.000000  891.000000  891.000000  891.000000  891.000000   \n",
       "mean    446.000000    0.383838    2.308642   29.699118    0.523008   \n",
       "std     257.353842    0.486592    0.836071   13.002015    1.102743   \n",
       "min       1.000000    0.000000    1.000000    0.420000    0.000000   \n",
       "25%     223.500000    0.000000    2.000000   22.000000    0.000000   \n",
       "50%     446.000000    0.000000    3.000000   29.699118    0.000000   \n",
       "75%     668.500000    1.000000    3.000000   35.000000    1.000000   \n",
       "max     891.000000    1.000000    3.000000   80.000000    8.000000   \n",
       "\n",
       "            Parch        Fare  \n",
       "count  891.000000  891.000000  \n",
       "mean     0.381594   32.204208  \n",
       "std      0.806057   49.693429  \n",
       "min      0.000000    0.000000  \n",
       "25%      0.000000    7.910400  \n",
       "50%      0.000000   14.454200  \n",
       "75%      0.000000   31.000000  \n",
       "max      6.000000  512.329200  "
      ]
     },
     "execution_count": 18,
     "metadata": {},
     "output_type": "execute_result"
    }
   ],
   "source": [
    "titanic_data.describe()"
   ]
  },
  {
   "cell_type": "code",
   "execution_count": 19,
   "id": "8cc44e00",
   "metadata": {
    "execution": {
     "iopub.execute_input": "2023-08-17T16:22:34.835834Z",
     "iopub.status.busy": "2023-08-17T16:22:34.835429Z",
     "iopub.status.idle": "2023-08-17T16:22:34.856615Z",
     "shell.execute_reply": "2023-08-17T16:22:34.855494Z"
    },
    "papermill": {
     "duration": 0.043204,
     "end_time": "2023-08-17T16:22:34.859109",
     "exception": false,
     "start_time": "2023-08-17T16:22:34.815905",
     "status": "completed"
    },
    "tags": []
   },
   "outputs": [
    {
     "name": "stderr",
     "output_type": "stream",
     "text": [
      "/tmp/ipykernel_20/4091330422.py:1: FutureWarning: The default value of numeric_only in DataFrameGroupBy.mean is deprecated. In a future version, numeric_only will default to False. Either specify numeric_only or select only columns which should be valid for the function.\n",
      "  titanic_data.groupby('Survived').mean()\n"
     ]
    },
    {
     "data": {
      "text/html": [
       "<div>\n",
       "<style scoped>\n",
       "    .dataframe tbody tr th:only-of-type {\n",
       "        vertical-align: middle;\n",
       "    }\n",
       "\n",
       "    .dataframe tbody tr th {\n",
       "        vertical-align: top;\n",
       "    }\n",
       "\n",
       "    .dataframe thead th {\n",
       "        text-align: right;\n",
       "    }\n",
       "</style>\n",
       "<table border=\"1\" class=\"dataframe\">\n",
       "  <thead>\n",
       "    <tr style=\"text-align: right;\">\n",
       "      <th></th>\n",
       "      <th>PassengerId</th>\n",
       "      <th>Pclass</th>\n",
       "      <th>Age</th>\n",
       "      <th>SibSp</th>\n",
       "      <th>Parch</th>\n",
       "      <th>Fare</th>\n",
       "    </tr>\n",
       "    <tr>\n",
       "      <th>Survived</th>\n",
       "      <th></th>\n",
       "      <th></th>\n",
       "      <th></th>\n",
       "      <th></th>\n",
       "      <th></th>\n",
       "      <th></th>\n",
       "    </tr>\n",
       "  </thead>\n",
       "  <tbody>\n",
       "    <tr>\n",
       "      <th>0</th>\n",
       "      <td>447.016393</td>\n",
       "      <td>2.531876</td>\n",
       "      <td>30.415100</td>\n",
       "      <td>0.553734</td>\n",
       "      <td>0.329690</td>\n",
       "      <td>22.117887</td>\n",
       "    </tr>\n",
       "    <tr>\n",
       "      <th>1</th>\n",
       "      <td>444.368421</td>\n",
       "      <td>1.950292</td>\n",
       "      <td>28.549778</td>\n",
       "      <td>0.473684</td>\n",
       "      <td>0.464912</td>\n",
       "      <td>48.395408</td>\n",
       "    </tr>\n",
       "  </tbody>\n",
       "</table>\n",
       "</div>"
      ],
      "text/plain": [
       "          PassengerId    Pclass        Age     SibSp     Parch       Fare\n",
       "Survived                                                                 \n",
       "0          447.016393  2.531876  30.415100  0.553734  0.329690  22.117887\n",
       "1          444.368421  1.950292  28.549778  0.473684  0.464912  48.395408"
      ]
     },
     "execution_count": 19,
     "metadata": {},
     "output_type": "execute_result"
    }
   ],
   "source": [
    "titanic_data.groupby('Survived').mean()"
   ]
  },
  {
   "cell_type": "code",
   "execution_count": 20,
   "id": "13638934",
   "metadata": {
    "execution": {
     "iopub.execute_input": "2023-08-17T16:22:34.898093Z",
     "iopub.status.busy": "2023-08-17T16:22:34.897635Z",
     "iopub.status.idle": "2023-08-17T16:22:34.916646Z",
     "shell.execute_reply": "2023-08-17T16:22:34.915416Z"
    },
    "papermill": {
     "duration": 0.041641,
     "end_time": "2023-08-17T16:22:34.919328",
     "exception": false,
     "start_time": "2023-08-17T16:22:34.877687",
     "status": "completed"
    },
    "tags": []
   },
   "outputs": [
    {
     "name": "stderr",
     "output_type": "stream",
     "text": [
      "/tmp/ipykernel_20/326675231.py:1: FutureWarning: The default value of numeric_only in DataFrameGroupBy.mean is deprecated. In a future version, numeric_only will default to False. Either specify numeric_only or select only columns which should be valid for the function.\n",
      "  titanic_data.groupby('Sex').mean()\n"
     ]
    },
    {
     "data": {
      "text/html": [
       "<div>\n",
       "<style scoped>\n",
       "    .dataframe tbody tr th:only-of-type {\n",
       "        vertical-align: middle;\n",
       "    }\n",
       "\n",
       "    .dataframe tbody tr th {\n",
       "        vertical-align: top;\n",
       "    }\n",
       "\n",
       "    .dataframe thead th {\n",
       "        text-align: right;\n",
       "    }\n",
       "</style>\n",
       "<table border=\"1\" class=\"dataframe\">\n",
       "  <thead>\n",
       "    <tr style=\"text-align: right;\">\n",
       "      <th></th>\n",
       "      <th>PassengerId</th>\n",
       "      <th>Survived</th>\n",
       "      <th>Pclass</th>\n",
       "      <th>Age</th>\n",
       "      <th>SibSp</th>\n",
       "      <th>Parch</th>\n",
       "      <th>Fare</th>\n",
       "    </tr>\n",
       "    <tr>\n",
       "      <th>Sex</th>\n",
       "      <th></th>\n",
       "      <th></th>\n",
       "      <th></th>\n",
       "      <th></th>\n",
       "      <th></th>\n",
       "      <th></th>\n",
       "      <th></th>\n",
       "    </tr>\n",
       "  </thead>\n",
       "  <tbody>\n",
       "    <tr>\n",
       "      <th>female</th>\n",
       "      <td>431.028662</td>\n",
       "      <td>0.742038</td>\n",
       "      <td>2.159236</td>\n",
       "      <td>28.216730</td>\n",
       "      <td>0.694268</td>\n",
       "      <td>0.649682</td>\n",
       "      <td>44.479818</td>\n",
       "    </tr>\n",
       "    <tr>\n",
       "      <th>male</th>\n",
       "      <td>454.147314</td>\n",
       "      <td>0.188908</td>\n",
       "      <td>2.389948</td>\n",
       "      <td>30.505824</td>\n",
       "      <td>0.429809</td>\n",
       "      <td>0.235702</td>\n",
       "      <td>25.523893</td>\n",
       "    </tr>\n",
       "  </tbody>\n",
       "</table>\n",
       "</div>"
      ],
      "text/plain": [
       "        PassengerId  Survived    Pclass        Age     SibSp     Parch  \\\n",
       "Sex                                                                      \n",
       "female   431.028662  0.742038  2.159236  28.216730  0.694268  0.649682   \n",
       "male     454.147314  0.188908  2.389948  30.505824  0.429809  0.235702   \n",
       "\n",
       "             Fare  \n",
       "Sex                \n",
       "female  44.479818  \n",
       "male    25.523893  "
      ]
     },
     "execution_count": 20,
     "metadata": {},
     "output_type": "execute_result"
    }
   ],
   "source": [
    "titanic_data.groupby('Sex').mean()"
   ]
  },
  {
   "cell_type": "markdown",
   "id": "b1bd53a3",
   "metadata": {
    "papermill": {
     "duration": 0.017846,
     "end_time": "2023-08-17T16:22:34.955459",
     "exception": false,
     "start_time": "2023-08-17T16:22:34.937613",
     "status": "completed"
    },
    "tags": []
   },
   "source": [
    "<h2>Correlation Matrix and Heatmap</h2>"
   ]
  },
  {
   "cell_type": "code",
   "execution_count": 21,
   "id": "af9347ea",
   "metadata": {
    "execution": {
     "iopub.execute_input": "2023-08-17T16:22:34.993408Z",
     "iopub.status.busy": "2023-08-17T16:22:34.992969Z",
     "iopub.status.idle": "2023-08-17T16:22:35.012413Z",
     "shell.execute_reply": "2023-08-17T16:22:35.011228Z"
    },
    "papermill": {
     "duration": 0.04154,
     "end_time": "2023-08-17T16:22:35.015127",
     "exception": false,
     "start_time": "2023-08-17T16:22:34.973587",
     "status": "completed"
    },
    "tags": []
   },
   "outputs": [
    {
     "name": "stderr",
     "output_type": "stream",
     "text": [
      "/tmp/ipykernel_20/451553860.py:1: FutureWarning: The default value of numeric_only in DataFrame.corr is deprecated. In a future version, it will default to False. Select only valid columns or specify the value of numeric_only to silence this warning.\n",
      "  titanic_data.corr()\n"
     ]
    },
    {
     "data": {
      "text/html": [
       "<div>\n",
       "<style scoped>\n",
       "    .dataframe tbody tr th:only-of-type {\n",
       "        vertical-align: middle;\n",
       "    }\n",
       "\n",
       "    .dataframe tbody tr th {\n",
       "        vertical-align: top;\n",
       "    }\n",
       "\n",
       "    .dataframe thead th {\n",
       "        text-align: right;\n",
       "    }\n",
       "</style>\n",
       "<table border=\"1\" class=\"dataframe\">\n",
       "  <thead>\n",
       "    <tr style=\"text-align: right;\">\n",
       "      <th></th>\n",
       "      <th>PassengerId</th>\n",
       "      <th>Survived</th>\n",
       "      <th>Pclass</th>\n",
       "      <th>Age</th>\n",
       "      <th>SibSp</th>\n",
       "      <th>Parch</th>\n",
       "      <th>Fare</th>\n",
       "    </tr>\n",
       "  </thead>\n",
       "  <tbody>\n",
       "    <tr>\n",
       "      <th>PassengerId</th>\n",
       "      <td>1.000000</td>\n",
       "      <td>-0.005007</td>\n",
       "      <td>-0.035144</td>\n",
       "      <td>0.033207</td>\n",
       "      <td>-0.057527</td>\n",
       "      <td>-0.001652</td>\n",
       "      <td>0.012658</td>\n",
       "    </tr>\n",
       "    <tr>\n",
       "      <th>Survived</th>\n",
       "      <td>-0.005007</td>\n",
       "      <td>1.000000</td>\n",
       "      <td>-0.338481</td>\n",
       "      <td>-0.069809</td>\n",
       "      <td>-0.035322</td>\n",
       "      <td>0.081629</td>\n",
       "      <td>0.257307</td>\n",
       "    </tr>\n",
       "    <tr>\n",
       "      <th>Pclass</th>\n",
       "      <td>-0.035144</td>\n",
       "      <td>-0.338481</td>\n",
       "      <td>1.000000</td>\n",
       "      <td>-0.331339</td>\n",
       "      <td>0.083081</td>\n",
       "      <td>0.018443</td>\n",
       "      <td>-0.549500</td>\n",
       "    </tr>\n",
       "    <tr>\n",
       "      <th>Age</th>\n",
       "      <td>0.033207</td>\n",
       "      <td>-0.069809</td>\n",
       "      <td>-0.331339</td>\n",
       "      <td>1.000000</td>\n",
       "      <td>-0.232625</td>\n",
       "      <td>-0.179191</td>\n",
       "      <td>0.091566</td>\n",
       "    </tr>\n",
       "    <tr>\n",
       "      <th>SibSp</th>\n",
       "      <td>-0.057527</td>\n",
       "      <td>-0.035322</td>\n",
       "      <td>0.083081</td>\n",
       "      <td>-0.232625</td>\n",
       "      <td>1.000000</td>\n",
       "      <td>0.414838</td>\n",
       "      <td>0.159651</td>\n",
       "    </tr>\n",
       "    <tr>\n",
       "      <th>Parch</th>\n",
       "      <td>-0.001652</td>\n",
       "      <td>0.081629</td>\n",
       "      <td>0.018443</td>\n",
       "      <td>-0.179191</td>\n",
       "      <td>0.414838</td>\n",
       "      <td>1.000000</td>\n",
       "      <td>0.216225</td>\n",
       "    </tr>\n",
       "    <tr>\n",
       "      <th>Fare</th>\n",
       "      <td>0.012658</td>\n",
       "      <td>0.257307</td>\n",
       "      <td>-0.549500</td>\n",
       "      <td>0.091566</td>\n",
       "      <td>0.159651</td>\n",
       "      <td>0.216225</td>\n",
       "      <td>1.000000</td>\n",
       "    </tr>\n",
       "  </tbody>\n",
       "</table>\n",
       "</div>"
      ],
      "text/plain": [
       "             PassengerId  Survived    Pclass       Age     SibSp     Parch  \\\n",
       "PassengerId     1.000000 -0.005007 -0.035144  0.033207 -0.057527 -0.001652   \n",
       "Survived       -0.005007  1.000000 -0.338481 -0.069809 -0.035322  0.081629   \n",
       "Pclass         -0.035144 -0.338481  1.000000 -0.331339  0.083081  0.018443   \n",
       "Age             0.033207 -0.069809 -0.331339  1.000000 -0.232625 -0.179191   \n",
       "SibSp          -0.057527 -0.035322  0.083081 -0.232625  1.000000  0.414838   \n",
       "Parch          -0.001652  0.081629  0.018443 -0.179191  0.414838  1.000000   \n",
       "Fare            0.012658  0.257307 -0.549500  0.091566  0.159651  0.216225   \n",
       "\n",
       "                 Fare  \n",
       "PassengerId  0.012658  \n",
       "Survived     0.257307  \n",
       "Pclass      -0.549500  \n",
       "Age          0.091566  \n",
       "SibSp        0.159651  \n",
       "Parch        0.216225  \n",
       "Fare         1.000000  "
      ]
     },
     "execution_count": 21,
     "metadata": {},
     "output_type": "execute_result"
    }
   ],
   "source": [
    "titanic_data.corr()"
   ]
  },
  {
   "cell_type": "code",
   "execution_count": 22,
   "id": "4b1e3485",
   "metadata": {
    "execution": {
     "iopub.execute_input": "2023-08-17T16:22:35.054557Z",
     "iopub.status.busy": "2023-08-17T16:22:35.054159Z",
     "iopub.status.idle": "2023-08-17T16:22:35.811124Z",
     "shell.execute_reply": "2023-08-17T16:22:35.809793Z"
    },
    "papermill": {
     "duration": 0.779652,
     "end_time": "2023-08-17T16:22:35.813680",
     "exception": false,
     "start_time": "2023-08-17T16:22:35.034028",
     "status": "completed"
    },
    "tags": []
   },
   "outputs": [
    {
     "name": "stderr",
     "output_type": "stream",
     "text": [
      "/tmp/ipykernel_20/1409170255.py:2: FutureWarning: The default value of numeric_only in DataFrame.corr is deprecated. In a future version, it will default to False. Select only valid columns or specify the value of numeric_only to silence this warning.\n",
      "  sns.heatmap(titanic_data.corr(), annot=True,cmap=\"PiYG\")\n"
     ]
    },
    {
     "data": {
      "image/png": "[encoded data removed]",
      "text/plain": [
       "<Figure size 1500x800 with 2 Axes>"
      ]
     },
     "metadata": {},
     "output_type": "display_data"
    }
   ],
   "source": [
    "plt.subplots(figsize = (15,8))\n",
    "sns.heatmap(titanic_data.corr(), annot=True,cmap=\"PiYG\")\n",
    "plt.title(\"Correlations Among Features\", fontsize = 20);"
   ]
  },
  {
   "cell_type": "code",
   "execution_count": 23,
   "id": "9ccd5a3b",
   "metadata": {
    "execution": {
     "iopub.execute_input": "2023-08-17T16:22:35.857110Z",
     "iopub.status.busy": "2023-08-17T16:22:35.856566Z",
     "iopub.status.idle": "2023-08-17T16:22:36.040269Z",
     "shell.execute_reply": "2023-08-17T16:22:36.038995Z"
    },
    "papermill": {
     "duration": 0.208387,
     "end_time": "2023-08-17T16:22:36.042983",
     "exception": false,
     "start_time": "2023-08-17T16:22:35.834596",
     "status": "completed"
    },
    "tags": []
   },
   "outputs": [
    {
     "data": {
      "image/png": "[encoded data removed]",
      "text/plain": [
       "<Figure size 640x480 with 1 Axes>"
      ]
     },
     "metadata": {},
     "output_type": "display_data"
    }
   ],
   "source": [
    "# Assuming 'titanic_data' is your DataFrame containing the Titanic dataset\n",
    "\n",
    "sns.countplot(x='Survived', data=titanic_data)\n",
    "plt.show()  # Display the plot"
   ]
  },
  {
   "cell_type": "code",
   "execution_count": 24,
   "id": "483a609b",
   "metadata": {
    "execution": {
     "iopub.execute_input": "2023-08-17T16:22:36.087226Z",
     "iopub.status.busy": "2023-08-17T16:22:36.085914Z",
     "iopub.status.idle": "2023-08-17T16:22:36.094821Z",
     "shell.execute_reply": "2023-08-17T16:22:36.093833Z"
    },
    "papermill": {
     "duration": 0.033561,
     "end_time": "2023-08-17T16:22:36.097355",
     "exception": false,
     "start_time": "2023-08-17T16:22:36.063794",
     "status": "completed"
    },
    "tags": []
   },
   "outputs": [
    {
     "data": {
      "text/plain": [
       "male      577\n",
       "female    314\n",
       "Name: Sex, dtype: int64"
      ]
     },
     "execution_count": 24,
     "metadata": {},
     "output_type": "execute_result"
    }
   ],
   "source": [
    "titanic_data['Sex'].value_counts()"
   ]
  },
  {
   "cell_type": "code",
   "execution_count": 25,
   "id": "68509fec",
   "metadata": {
    "execution": {
     "iopub.execute_input": "2023-08-17T16:22:36.143139Z",
     "iopub.status.busy": "2023-08-17T16:22:36.142401Z",
     "iopub.status.idle": "2023-08-17T16:22:36.324152Z",
     "shell.execute_reply": "2023-08-17T16:22:36.322978Z"
    },
    "papermill": {
     "duration": 0.208324,
     "end_time": "2023-08-17T16:22:36.327448",
     "exception": false,
     "start_time": "2023-08-17T16:22:36.119124",
     "status": "completed"
    },
    "tags": []
   },
   "outputs": [
    {
     "data": {
      "image/png": "[encoded data removed]",
      "text/plain": [
       "<Figure size 640x480 with 1 Axes>"
      ]
     },
     "metadata": {},
     "output_type": "display_data"
    }
   ],
   "source": [
    "\n",
    "\n",
    "# Assuming 'titanic_data' is your DataFrame containing the Titanic dataset\n",
    "\n",
    "sns.countplot(x='Sex', data=titanic_data)\n",
    "plt.show()  # Display the plot\n"
   ]
  },
  {
   "cell_type": "code",
   "execution_count": 26,
   "id": "754721fd",
   "metadata": {
    "execution": {
     "iopub.execute_input": "2023-08-17T16:22:36.372243Z",
     "iopub.status.busy": "2023-08-17T16:22:36.370962Z",
     "iopub.status.idle": "2023-08-17T16:22:36.579084Z",
     "shell.execute_reply": "2023-08-17T16:22:36.577824Z"
    },
    "papermill": {
     "duration": 0.233323,
     "end_time": "2023-08-17T16:22:36.581966",
     "exception": false,
     "start_time": "2023-08-17T16:22:36.348643",
     "status": "completed"
    },
    "tags": []
   },
   "outputs": [
    {
     "data": {
      "image/png": "[encoded data removed]",
      "text/plain": [
       "<Figure size 640x480 with 1 Axes>"
      ]
     },
     "metadata": {},
     "output_type": "display_data"
    }
   ],
   "source": [
    "\n",
    "\n",
    "# Assuming 'titanic_data' is your DataFrame containing the Titanic dataset\n",
    "\n",
    "sns.countplot(x='Sex', hue='Survived', data=titanic_data)\n",
    "plt.show()  # Display the plot\n",
    "\n"
   ]
  },
  {
   "cell_type": "code",
   "execution_count": 27,
   "id": "3b91e353",
   "metadata": {
    "execution": {
     "iopub.execute_input": "2023-08-17T16:22:36.626658Z",
     "iopub.status.busy": "2023-08-17T16:22:36.626249Z",
     "iopub.status.idle": "2023-08-17T16:22:36.880973Z",
     "shell.execute_reply": "2023-08-17T16:22:36.879543Z"
    },
    "papermill": {
     "duration": 0.280051,
     "end_time": "2023-08-17T16:22:36.883434",
     "exception": false,
     "start_time": "2023-08-17T16:22:36.603383",
     "status": "completed"
    },
    "tags": []
   },
   "outputs": [
    {
     "data": {
      "image/png": "[encoded data removed]",
      "text/plain": [
       "<Figure size 640x480 with 1 Axes>"
      ]
     },
     "metadata": {},
     "output_type": "display_data"
    }
   ],
   "source": [
    "\n",
    "\n",
    "# Assuming 'titanic_data' is your DataFrame containing the Titanic dataset\n",
    "\n",
    "sns.countplot(x='Pclass', data=titanic_data)\n",
    "plt.show()  # Display the plot\n"
   ]
  },
  {
   "cell_type": "code",
   "execution_count": 28,
   "id": "ed4f9dca",
   "metadata": {
    "execution": {
     "iopub.execute_input": "2023-08-17T16:22:36.930665Z",
     "iopub.status.busy": "2023-08-17T16:22:36.929277Z",
     "iopub.status.idle": "2023-08-17T16:22:37.234365Z",
     "shell.execute_reply": "2023-08-17T16:22:37.233029Z"
    },
    "papermill": {
     "duration": 0.331241,
     "end_time": "2023-08-17T16:22:37.237326",
     "exception": false,
     "start_time": "2023-08-17T16:22:36.906085",
     "status": "completed"
    },
    "tags": []
   },
   "outputs": [
    {
     "data": {
      "image/png": "[encoded data removed]",
      "text/plain": [
       "<Figure size 640x480 with 1 Axes>"
      ]
     },
     "metadata": {},
     "output_type": "display_data"
    }
   ],
   "source": [
    "\n",
    "\n",
    "# Assuming 'titanic_data' is your DataFrame containing the Titanic dataset\n",
    "\n",
    "sns.countplot(x='Pclass', hue='Survived', data=titanic_data)\n",
    "plt.show()  # Display the plot\n"
   ]
  },
  {
   "cell_type": "code",
   "execution_count": null,
   "id": "7b2922d4",
   "metadata": {
    "papermill": {
     "duration": 0.02217,
     "end_time": "2023-08-17T16:22:37.283036",
     "exception": false,
     "start_time": "2023-08-17T16:22:37.260866",
     "status": "completed"
    },
    "tags": []
   },
   "outputs": [],
   "source": []
  },
  {
   "cell_type": "code",
   "execution_count": 29,
   "id": "abdee15d",
   "metadata": {
    "execution": {
     "iopub.execute_input": "2023-08-17T16:22:37.331040Z",
     "iopub.status.busy": "2023-08-17T16:22:37.329863Z",
     "iopub.status.idle": "2023-08-17T16:22:37.339535Z",
     "shell.execute_reply": "2023-08-17T16:22:37.338493Z"
    },
    "papermill": {
     "duration": 0.035825,
     "end_time": "2023-08-17T16:22:37.341821",
     "exception": false,
     "start_time": "2023-08-17T16:22:37.305996",
     "status": "completed"
    },
    "tags": []
   },
   "outputs": [
    {
     "data": {
      "text/plain": [
       "male      577\n",
       "female    314\n",
       "Name: Sex, dtype: int64"
      ]
     },
     "execution_count": 29,
     "metadata": {},
     "output_type": "execute_result"
    }
   ],
   "source": [
    "\n",
    "titanic_data['Sex'].value_counts()"
   ]
  },
  {
   "cell_type": "code",
   "execution_count": 30,
   "id": "7f0f669f",
   "metadata": {
    "execution": {
     "iopub.execute_input": "2023-08-17T16:22:37.388603Z",
     "iopub.status.busy": "2023-08-17T16:22:37.387920Z",
     "iopub.status.idle": "2023-08-17T16:22:37.396903Z",
     "shell.execute_reply": "2023-08-17T16:22:37.395662Z"
    },
    "papermill": {
     "duration": 0.035263,
     "end_time": "2023-08-17T16:22:37.399344",
     "exception": false,
     "start_time": "2023-08-17T16:22:37.364081",
     "status": "completed"
    },
    "tags": []
   },
   "outputs": [
    {
     "data": {
      "text/plain": [
       "S    646\n",
       "C    168\n",
       "Q     77\n",
       "Name: Embarked, dtype: int64"
      ]
     },
     "execution_count": 30,
     "metadata": {},
     "output_type": "execute_result"
    }
   ],
   "source": [
    "titanic_data['Embarked'].value_counts()"
   ]
  },
  {
   "cell_type": "code",
   "execution_count": 31,
   "id": "a8e858ba",
   "metadata": {
    "execution": {
     "iopub.execute_input": "2023-08-17T16:22:37.446368Z",
     "iopub.status.busy": "2023-08-17T16:22:37.445719Z",
     "iopub.status.idle": "2023-08-17T16:22:37.455300Z",
     "shell.execute_reply": "2023-08-17T16:22:37.454359Z"
    },
    "papermill": {
     "duration": 0.03611,
     "end_time": "2023-08-17T16:22:37.457872",
     "exception": false,
     "start_time": "2023-08-17T16:22:37.421762",
     "status": "completed"
    },
    "tags": []
   },
   "outputs": [],
   "source": [
    "# converting categorical Columns\n",
    "\n",
    "titanic_data.replace({'Sex':{'male':0,'female':1}, 'Embarked':{'S':0,'C':1,'Q':2}}, inplace=True)\n",
    "     \n",
    "\n"
   ]
  },
  {
   "cell_type": "code",
   "execution_count": 32,
   "id": "13eb8ec1",
   "metadata": {
    "execution": {
     "iopub.execute_input": "2023-08-17T16:22:37.505345Z",
     "iopub.status.busy": "2023-08-17T16:22:37.504633Z",
     "iopub.status.idle": "2023-08-17T16:22:37.522177Z",
     "shell.execute_reply": "2023-08-17T16:22:37.520701Z"
    },
    "papermill": {
     "duration": 0.044383,
     "end_time": "2023-08-17T16:22:37.524792",
     "exception": false,
     "start_time": "2023-08-17T16:22:37.480409",
     "status": "completed"
    },
    "tags": []
   },
   "outputs": [
    {
     "data": {
      "text/html": [
       "<div>\n",
       "<style scoped>\n",
       "    .dataframe tbody tr th:only-of-type {\n",
       "        vertical-align: middle;\n",
       "    }\n",
       "\n",
       "    .dataframe tbody tr th {\n",
       "        vertical-align: top;\n",
       "    }\n",
       "\n",
       "    .dataframe thead th {\n",
       "        text-align: right;\n",
       "    }\n",
       "</style>\n",
       "<table border=\"1\" class=\"dataframe\">\n",
       "  <thead>\n",
       "    <tr style=\"text-align: right;\">\n",
       "      <th></th>\n",
       "      <th>PassengerId</th>\n",
       "      <th>Survived</th>\n",
       "      <th>Pclass</th>\n",
       "      <th>Name</th>\n",
       "      <th>Sex</th>\n",
       "      <th>Age</th>\n",
       "      <th>SibSp</th>\n",
       "      <th>Parch</th>\n",
       "      <th>Ticket</th>\n",
       "      <th>Fare</th>\n",
       "      <th>Embarked</th>\n",
       "    </tr>\n",
       "  </thead>\n",
       "  <tbody>\n",
       "    <tr>\n",
       "      <th>0</th>\n",
       "      <td>1</td>\n",
       "      <td>0</td>\n",
       "      <td>3</td>\n",
       "      <td>Braund, Mr. Owen Harris</td>\n",
       "      <td>0</td>\n",
       "      <td>22.0</td>\n",
       "      <td>1</td>\n",
       "      <td>0</td>\n",
       "      <td>A/5 21171</td>\n",
       "      <td>7.2500</td>\n",
       "      <td>0</td>\n",
       "    </tr>\n",
       "    <tr>\n",
       "      <th>1</th>\n",
       "      <td>2</td>\n",
       "      <td>1</td>\n",
       "      <td>1</td>\n",
       "      <td>Cumings, Mrs. John Bradley (Florence Briggs Th...</td>\n",
       "      <td>1</td>\n",
       "      <td>38.0</td>\n",
       "      <td>1</td>\n",
       "      <td>0</td>\n",
       "      <td>PC 17599</td>\n",
       "      <td>71.2833</td>\n",
       "      <td>1</td>\n",
       "    </tr>\n",
       "    <tr>\n",
       "      <th>2</th>\n",
       "      <td>3</td>\n",
       "      <td>1</td>\n",
       "      <td>3</td>\n",
       "      <td>Heikkinen, Miss. Laina</td>\n",
       "      <td>1</td>\n",
       "      <td>26.0</td>\n",
       "      <td>0</td>\n",
       "      <td>0</td>\n",
       "      <td>STON/O2. 3101282</td>\n",
       "      <td>7.9250</td>\n",
       "      <td>0</td>\n",
       "    </tr>\n",
       "    <tr>\n",
       "      <th>3</th>\n",
       "      <td>4</td>\n",
       "      <td>1</td>\n",
       "      <td>1</td>\n",
       "      <td>Futrelle, Mrs. Jacques Heath (Lily May Peel)</td>\n",
       "      <td>1</td>\n",
       "      <td>35.0</td>\n",
       "      <td>1</td>\n",
       "      <td>0</td>\n",
       "      <td>113803</td>\n",
       "      <td>53.1000</td>\n",
       "      <td>0</td>\n",
       "    </tr>\n",
       "    <tr>\n",
       "      <th>4</th>\n",
       "      <td>5</td>\n",
       "      <td>0</td>\n",
       "      <td>3</td>\n",
       "      <td>Allen, Mr. William Henry</td>\n",
       "      <td>0</td>\n",
       "      <td>35.0</td>\n",
       "      <td>0</td>\n",
       "      <td>0</td>\n",
       "      <td>373450</td>\n",
       "      <td>8.0500</td>\n",
       "      <td>0</td>\n",
       "    </tr>\n",
       "  </tbody>\n",
       "</table>\n",
       "</div>"
      ],
      "text/plain": [
       "   PassengerId  Survived  Pclass  \\\n",
       "0            1         0       3   \n",
       "1            2         1       1   \n",
       "2            3         1       3   \n",
       "3            4         1       1   \n",
       "4            5         0       3   \n",
       "\n",
       "                                                Name  Sex   Age  SibSp  Parch  \\\n",
       "0                            Braund, Mr. Owen Harris    0  22.0      1      0   \n",
       "1  Cumings, Mrs. John Bradley (Florence Briggs Th...    1  38.0      1      0   \n",
       "2                             Heikkinen, Miss. Laina    1  26.0      0      0   \n",
       "3       Futrelle, Mrs. Jacques Heath (Lily May Peel)    1  35.0      1      0   \n",
       "4                           Allen, Mr. William Henry    0  35.0      0      0   \n",
       "\n",
       "             Ticket     Fare  Embarked  \n",
       "0         A/5 21171   7.2500         0  \n",
       "1          PC 17599  71.2833         1  \n",
       "2  STON/O2. 3101282   7.9250         0  \n",
       "3            113803  53.1000         0  \n",
       "4            373450   8.0500         0  "
      ]
     },
     "execution_count": 32,
     "metadata": {},
     "output_type": "execute_result"
    }
   ],
   "source": [
    "titanic_data.head()"
   ]
  },
  {
   "cell_type": "code",
   "execution_count": 33,
   "id": "8a680036",
   "metadata": {
    "execution": {
     "iopub.execute_input": "2023-08-17T16:22:37.572717Z",
     "iopub.status.busy": "2023-08-17T16:22:37.572032Z",
     "iopub.status.idle": "2023-08-17T16:22:37.578567Z",
     "shell.execute_reply": "2023-08-17T16:22:37.577717Z"
    },
    "papermill": {
     "duration": 0.033294,
     "end_time": "2023-08-17T16:22:37.581019",
     "exception": false,
     "start_time": "2023-08-17T16:22:37.547725",
     "status": "completed"
    },
    "tags": []
   },
   "outputs": [],
   "source": [
    "X = titanic_data.drop(columns = ['PassengerId','Name','Ticket','Survived'],axis=1)\n",
    "Y = titanic_data['Survived']\n",
    "     \n",
    "\n"
   ]
  },
  {
   "cell_type": "code",
   "execution_count": 34,
   "id": "f4821d03",
   "metadata": {
    "execution": {
     "iopub.execute_input": "2023-08-17T16:22:37.628567Z",
     "iopub.status.busy": "2023-08-17T16:22:37.627858Z",
     "iopub.status.idle": "2023-08-17T16:22:37.639345Z",
     "shell.execute_reply": "2023-08-17T16:22:37.637809Z"
    },
    "papermill": {
     "duration": 0.038118,
     "end_time": "2023-08-17T16:22:37.641830",
     "exception": false,
     "start_time": "2023-08-17T16:22:37.603712",
     "status": "completed"
    },
    "tags": []
   },
   "outputs": [
    {
     "name": "stdout",
     "output_type": "stream",
     "text": [
      "     Pclass  Sex        Age  SibSp  Parch     Fare  Embarked\n",
      "0         3    0  22.000000      1      0   7.2500         0\n",
      "1         1    1  38.000000      1      0  71.2833         1\n",
      "2         3    1  26.000000      0      0   7.9250         0\n",
      "3         1    1  35.000000      1      0  53.1000         0\n",
      "4         3    0  35.000000      0      0   8.0500         0\n",
      "..      ...  ...        ...    ...    ...      ...       ...\n",
      "886       2    0  27.000000      0      0  13.0000         0\n",
      "887       1    1  19.000000      0      0  30.0000         0\n",
      "888       3    1  29.699118      1      2  23.4500         0\n",
      "889       1    0  26.000000      0      0  30.0000         1\n",
      "890       3    0  32.000000      0      0   7.7500         2\n",
      "\n",
      "[891 rows x 7 columns]\n"
     ]
    }
   ],
   "source": [
    "print(X)"
   ]
  },
  {
   "cell_type": "code",
   "execution_count": 35,
   "id": "9f247ff7",
   "metadata": {
    "execution": {
     "iopub.execute_input": "2023-08-17T16:22:37.689583Z",
     "iopub.status.busy": "2023-08-17T16:22:37.689168Z",
     "iopub.status.idle": "2023-08-17T16:22:37.696739Z",
     "shell.execute_reply": "2023-08-17T16:22:37.695019Z"
    },
    "papermill": {
     "duration": 0.033822,
     "end_time": "2023-08-17T16:22:37.699095",
     "exception": false,
     "start_time": "2023-08-17T16:22:37.665273",
     "status": "completed"
    },
    "tags": []
   },
   "outputs": [
    {
     "name": "stdout",
     "output_type": "stream",
     "text": [
      "0      0\n",
      "1      1\n",
      "2      1\n",
      "3      1\n",
      "4      0\n",
      "      ..\n",
      "886    0\n",
      "887    1\n",
      "888    0\n",
      "889    1\n",
      "890    0\n",
      "Name: Survived, Length: 891, dtype: int64\n"
     ]
    }
   ],
   "source": [
    "print(Y)"
   ]
  },
  {
   "cell_type": "code",
   "execution_count": 36,
   "id": "50628aab",
   "metadata": {
    "execution": {
     "iopub.execute_input": "2023-08-17T16:22:37.747035Z",
     "iopub.status.busy": "2023-08-17T16:22:37.746395Z",
     "iopub.status.idle": "2023-08-17T16:22:37.754624Z",
     "shell.execute_reply": "2023-08-17T16:22:37.753307Z"
    },
    "papermill": {
     "duration": 0.03525,
     "end_time": "2023-08-17T16:22:37.757254",
     "exception": false,
     "start_time": "2023-08-17T16:22:37.722004",
     "status": "completed"
    },
    "tags": []
   },
   "outputs": [
    {
     "name": "stdout",
     "output_type": "stream",
     "text": [
      "(891, 7) (712, 7) (179, 7)\n"
     ]
    }
   ],
   "source": [
    "\n",
    "X_train, X_test, Y_train, Y_test = train_test_split(X,Y, test_size=0.2, random_state=2)\n",
    "     \n",
    "\n",
    "print(X.shape, X_train.shape, X_test.shape)"
   ]
  },
  {
   "cell_type": "markdown",
   "id": "2a156541",
   "metadata": {
    "papermill": {
     "duration": 0.023242,
     "end_time": "2023-08-17T16:22:37.803658",
     "exception": false,
     "start_time": "2023-08-17T16:22:37.780416",
     "status": "completed"
    },
    "tags": []
   },
   "source": [
    "# Model Training\n",
    "\n",
    "<h2>Logistic Regression</h2>"
   ]
  },
  {
   "cell_type": "code",
   "execution_count": 37,
   "id": "d63979fc",
   "metadata": {
    "execution": {
     "iopub.execute_input": "2023-08-17T16:22:37.852835Z",
     "iopub.status.busy": "2023-08-17T16:22:37.851499Z",
     "iopub.status.idle": "2023-08-17T16:22:37.856774Z",
     "shell.execute_reply": "2023-08-17T16:22:37.855591Z"
    },
    "papermill": {
     "duration": 0.032346,
     "end_time": "2023-08-17T16:22:37.859372",
     "exception": false,
     "start_time": "2023-08-17T16:22:37.827026",
     "status": "completed"
    },
    "tags": []
   },
   "outputs": [],
   "source": [
    "\n",
    "model = LogisticRegression()\n"
   ]
  },
  {
   "cell_type": "code",
   "execution_count": 38,
   "id": "2429bcdf",
   "metadata": {
    "execution": {
     "iopub.execute_input": "2023-08-17T16:22:37.908774Z",
     "iopub.status.busy": "2023-08-17T16:22:37.908326Z",
     "iopub.status.idle": "2023-08-17T16:22:37.954999Z",
     "shell.execute_reply": "2023-08-17T16:22:37.953835Z"
    },
    "papermill": {
     "duration": 0.074506,
     "end_time": "2023-08-17T16:22:37.957431",
     "exception": false,
     "start_time": "2023-08-17T16:22:37.882925",
     "status": "completed"
    },
    "tags": []
   },
   "outputs": [
    {
     "name": "stderr",
     "output_type": "stream",
     "text": [
      "/opt/conda/lib/python3.10/site-packages/sklearn/linear_model/_logistic.py:458: ConvergenceWarning: lbfgs failed to converge (status=1):\n",
      "STOP: TOTAL NO. of ITERATIONS REACHED LIMIT.\n",
      "\n",
      "Increase the number of iterations (max_iter) or scale the data as shown in:\n",
      "    https://scikit-learn.org/stable/modules/preprocessing.html\n",
      "Please also refer to the documentation for alternative solver options:\n",
      "    https://scikit-learn.org/stable/modules/linear_model.html#logistic-regression\n",
      "  n_iter_i = _check_optimize_result(\n"
     ]
    },
    {
     "data": {
      "text/html": [
       "<style>#sk-container-id-1 {color: black;background-color: white;}#sk-container-id-1 pre{padding: 0;}#sk-container-id-1 div.sk-toggleable {background-color: white;}#sk-container-id-1 label.sk-toggleable__label {cursor: pointer;display: block;width: 100%;margin-bottom: 0;padding: 0.3em;box-sizing: border-box;text-align: center;}#sk-container-id-1 label.sk-toggleable__label-arrow:before {content: \"▸\";float: left;margin-right: 0.25em;color: #696969;}#sk-container-id-1 label.sk-toggleable__label-arrow:hover:before {color: black;}#sk-container-id-1 div.sk-estimator:hover label.sk-toggleable__label-arrow:before {color: black;}#sk-container-id-1 div.sk-toggleable__content {max-height: 0;max-width: 0;overflow: hidden;text-align: left;background-color: #f0f8ff;}#sk-container-id-1 div.sk-toggleable__content pre {margin: 0.2em;color: black;border-radius: 0.25em;background-color: #f0f8ff;}#sk-container-id-1 input.sk-toggleable__control:checked~div.sk-toggleable__content {max-height: 200px;max-width: 100%;overflow: auto;}#sk-container-id-1 input.sk-toggleable__control:checked~label.sk-toggleable__label-arrow:before {content: \"▾\";}#sk-container-id-1 div.sk-estimator input.sk-toggleable__control:checked~label.sk-toggleable__label {background-color: #d4ebff;}#sk-container-id-1 div.sk-label input.sk-toggleable__control:checked~label.sk-toggleable__label {background-color: #d4ebff;}#sk-container-id-1 input.sk-hidden--visually {border: 0;clip: rect(1px 1px 1px 1px);clip: rect(1px, 1px, 1px, 1px);height: 1px;margin: -1px;overflow: hidden;padding: 0;position: absolute;width: 1px;}#sk-container-id-1 div.sk-estimator {font-family: monospace;background-color: #f0f8ff;border: 1px dotted black;border-radius: 0.25em;box-sizing: border-box;margin-bottom: 0.5em;}#sk-container-id-1 div.sk-estimator:hover {background-color: #d4ebff;}#sk-container-id-1 div.sk-parallel-item::after {content: \"\";width: 100%;border-bottom: 1px solid gray;flex-grow: 1;}#sk-container-id-1 div.sk-label:hover label.sk-toggleable__label {background-color: #d4ebff;}#sk-container-id-1 div.sk-serial::before {content: \"\";position: absolute;border-left: 1px solid gray;box-sizing: border-box;top: 0;bottom: 0;left: 50%;z-index: 0;}#sk-container-id-1 div.sk-serial {display: flex;flex-direction: column;align-items: center;background-color: white;padding-right: 0.2em;padding-left: 0.2em;position: relative;}#sk-container-id-1 div.sk-item {position: relative;z-index: 1;}#sk-container-id-1 div.sk-parallel {display: flex;align-items: stretch;justify-content: center;background-color: white;position: relative;}#sk-container-id-1 div.sk-item::before, #sk-container-id-1 div.sk-parallel-item::before {content: \"\";position: absolute;border-left: 1px solid gray;box-sizing: border-box;top: 0;bottom: 0;left: 50%;z-index: -1;}#sk-container-id-1 div.sk-parallel-item {display: flex;flex-direction: column;z-index: 1;position: relative;background-color: white;}#sk-container-id-1 div.sk-parallel-item:first-child::after {align-self: flex-end;width: 50%;}#sk-container-id-1 div.sk-parallel-item:last-child::after {align-self: flex-start;width: 50%;}#sk-container-id-1 div.sk-parallel-item:only-child::after {width: 0;}#sk-container-id-1 div.sk-dashed-wrapped {border: 1px dashed gray;margin: 0 0.4em 0.5em 0.4em;box-sizing: border-box;padding-bottom: 0.4em;background-color: white;}#sk-container-id-1 div.sk-label label {font-family: monospace;font-weight: bold;display: inline-block;line-height: 1.2em;}#sk-container-id-1 div.sk-label-container {text-align: center;}#sk-container-id-1 div.sk-container {/* jupyter's `normalize.less` sets `[hidden] { display: none; }` but bootstrap.min.css set `[hidden] { display: none !important; }` so we also need the `!important` here to be able to override the default hidden behavior on the sphinx rendered scikit-learn.org. See: https://github.com/scikit-learn/scikit-learn/issues/21755 */display: inline-block !important;position: relative;}#sk-container-id-1 div.sk-text-repr-fallback {display: none;}</style><div id=\"sk-container-id-1\" class=\"sk-top-container\"><div class=\"sk-text-repr-fallback\"><pre>LogisticRegression()</pre><b>In a Jupyter environment, please rerun this cell to show the HTML representation or trust the notebook. <br />On GitHub, the HTML representation is unable to render, please try loading this page with nbviewer.org.</b></div><div class=\"sk-container\" hidden><div class=\"sk-item\"><div class=\"sk-estimator sk-toggleable\"><input class=\"sk-toggleable__control sk-hidden--visually\" id=\"sk-estimator-id-1\" type=\"checkbox\" checked><label for=\"sk-estimator-id-1\" class=\"sk-toggleable__label sk-toggleable__label-arrow\">LogisticRegression</label><div class=\"sk-toggleable__content\"><pre>LogisticRegression()</pre></div></div></div></div></div>"
      ],
      "text/plain": [
       "LogisticRegression()"
      ]
     },
     "execution_count": 38,
     "metadata": {},
     "output_type": "execute_result"
    }
   ],
   "source": [
    "# training the Logistic Regression model with training data\n",
    "model.fit(X_train, Y_train)\n"
   ]
  },
  {
   "cell_type": "code",
   "execution_count": 39,
   "id": "126ef789",
   "metadata": {
    "execution": {
     "iopub.execute_input": "2023-08-17T16:22:38.006716Z",
     "iopub.status.busy": "2023-08-17T16:22:38.006326Z",
     "iopub.status.idle": "2023-08-17T16:22:38.013402Z",
     "shell.execute_reply": "2023-08-17T16:22:38.012101Z"
    },
    "papermill": {
     "duration": 0.034655,
     "end_time": "2023-08-17T16:22:38.015811",
     "exception": false,
     "start_time": "2023-08-17T16:22:37.981156",
     "status": "completed"
    },
    "tags": []
   },
   "outputs": [],
   "source": [
    "\n",
    "# accuracy on training data\n",
    "X_train_prediction = model.predict(X_train)"
   ]
  },
  {
   "cell_type": "code",
   "execution_count": 40,
   "id": "8ef4d3b7",
   "metadata": {
    "execution": {
     "iopub.execute_input": "2023-08-17T16:22:38.066392Z",
     "iopub.status.busy": "2023-08-17T16:22:38.065980Z",
     "iopub.status.idle": "2023-08-17T16:22:38.074770Z",
     "shell.execute_reply": "2023-08-17T16:22:38.073445Z"
    },
    "papermill": {
     "duration": 0.036914,
     "end_time": "2023-08-17T16:22:38.077247",
     "exception": false,
     "start_time": "2023-08-17T16:22:38.040333",
     "status": "completed"
    },
    "tags": []
   },
   "outputs": [
    {
     "name": "stdout",
     "output_type": "stream",
     "text": [
      "[0 1 0 0 0 0 0 1 0 0 0 1 0 0 1 0 1 0 0 0 0 0 1 0 0 1 0 0 1 0 1 1 0 0 1 0 1\n",
      " 0 0 0 0 0 0 1 1 0 0 1 0 1 0 1 0 0 0 0 0 0 1 0 1 0 0 1 1 0 0 1 1 0 1 0 0 1\n",
      " 0 0 0 0 0 0 1 0 0 0 1 0 0 0 1 0 1 0 0 1 0 0 0 1 1 1 0 1 0 0 0 0 0 1 0 0 0\n",
      " 1 1 0 0 1 0 0 1 0 0 1 0 0 1 0 1 0 1 0 1 0 1 1 1 1 1 1 0 0 1 1 1 0 0 1 0 0\n",
      " 0 0 0 0 1 0 1 0 0 0 0 0 0 0 0 1 0 0 0 0 0 0 0 0 0 0 1 1 0 0 1 0 1 0 1 1 1\n",
      " 0 0 0 1 0 0 0 1 0 0 1 0 0 0 1 1 0 1 0 0 0 0 0 1 1 0 1 1 1 1 0 0 0 0 0 0 0\n",
      " 0 1 0 0 1 1 1 0 0 1 0 1 1 1 0 0 1 0 0 0 0 1 0 0 0 1 0 0 0 1 0 1 0 1 0 0 0\n",
      " 0 0 0 0 0 0 1 0 1 0 0 1 0 0 1 0 1 0 1 1 0 0 0 0 1 0 1 0 0 1 0 0 0 1 0 0 0\n",
      " 0 1 1 0 0 0 0 0 0 1 0 1 0 0 0 0 0 1 1 1 0 0 0 1 0 1 0 0 0 0 0 0 1 1 0 1 1\n",
      " 0 1 1 1 0 0 0 0 0 0 0 0 0 1 0 0 1 1 1 0 1 0 0 0 0 1 1 0 0 0 1 0 1 1 1 0 0\n",
      " 0 0 1 0 0 0 1 1 0 0 1 0 0 0 0 1 0 0 0 0 0 1 0 0 0 0 1 0 1 1 1 0 1 1 0 0 0\n",
      " 0 1 0 1 0 0 1 1 0 0 0 0 1 0 0 0 0 1 1 0 1 0 1 0 0 0 0 0 1 0 0 0 0 1 1 0 0\n",
      " 1 0 1 0 0 1 0 0 0 0 0 0 0 0 1 0 0 1 1 0 0 0 1 1 0 1 0 0 1 0 0 0 1 1 0 1 0\n",
      " 0 0 0 0 1 0 0 1 0 1 1 0 0 1 0 0 1 0 0 0 1 0 1 1 0 0 1 1 0 1 0 1 1 1 0 1 0\n",
      " 0 1 0 0 1 0 0 1 0 0 0 0 1 1 0 0 1 0 1 0 0 0 0 0 0 1 1 1 0 0 1 1 0 0 0 0 0\n",
      " 0 0 0 0 0 0 0 0 0 0 0 0 1 0 0 0 1 1 0 0 0 0 0 0 0 0 0 0 0 0 1 0 1 0 0 0 0\n",
      " 0 0 1 0 0 0 0 0 1 0 1 0 1 0 0 0 1 0 1 1 1 0 0 0 1 0 1 0 0 0 1 1 1 0 0 1 1\n",
      " 0 0 0 1 0 1 0 0 0 0 0 1 1 0 1 1 1 0 0 0 1 0 0 0 0 1 0 0 0 1 0 0 1 0 0 0 0\n",
      " 1 0 0 1 0 1 0 0 0 1 1 1 1 1 0 0 1 1 0 1 1 1 1 0 0 0 1 1 0 0 1 0 0 0 0 0 0\n",
      " 0 0 0 1 1 0 0 1 0]\n"
     ]
    }
   ],
   "source": [
    "\n",
    "print(X_train_prediction)"
   ]
  },
  {
   "cell_type": "code",
   "execution_count": 41,
   "id": "2db6fe65",
   "metadata": {
    "execution": {
     "iopub.execute_input": "2023-08-17T16:22:38.126974Z",
     "iopub.status.busy": "2023-08-17T16:22:38.126548Z",
     "iopub.status.idle": "2023-08-17T16:22:38.134919Z",
     "shell.execute_reply": "2023-08-17T16:22:38.133611Z"
    },
    "papermill": {
     "duration": 0.036358,
     "end_time": "2023-08-17T16:22:38.137388",
     "exception": false,
     "start_time": "2023-08-17T16:22:38.101030",
     "status": "completed"
    },
    "tags": []
   },
   "outputs": [
    {
     "name": "stdout",
     "output_type": "stream",
     "text": [
      "Accuracy score of training data :  0.8075842696629213\n"
     ]
    }
   ],
   "source": [
    "training_data_accuracy = accuracy_score(Y_train, X_train_prediction)\n",
    "print('Accuracy score of training data : ', training_data_accuracy)\n",
    "     \n"
   ]
  },
  {
   "cell_type": "code",
   "execution_count": 42,
   "id": "6a975f95",
   "metadata": {
    "execution": {
     "iopub.execute_input": "2023-08-17T16:22:38.188856Z",
     "iopub.status.busy": "2023-08-17T16:22:38.187909Z",
     "iopub.status.idle": "2023-08-17T16:22:38.195745Z",
     "shell.execute_reply": "2023-08-17T16:22:38.194581Z"
    },
    "papermill": {
     "duration": 0.035847,
     "end_time": "2023-08-17T16:22:38.198078",
     "exception": false,
     "start_time": "2023-08-17T16:22:38.162231",
     "status": "completed"
    },
    "tags": []
   },
   "outputs": [],
   "source": [
    "# accuracy on test data\n",
    "X_test_prediction = model.predict(X_test)"
   ]
  },
  {
   "cell_type": "code",
   "execution_count": 43,
   "id": "1bd01e07",
   "metadata": {
    "execution": {
     "iopub.execute_input": "2023-08-17T16:22:38.249484Z",
     "iopub.status.busy": "2023-08-17T16:22:38.249086Z",
     "iopub.status.idle": "2023-08-17T16:22:38.255658Z",
     "shell.execute_reply": "2023-08-17T16:22:38.254434Z"
    },
    "papermill": {
     "duration": 0.035583,
     "end_time": "2023-08-17T16:22:38.257993",
     "exception": false,
     "start_time": "2023-08-17T16:22:38.222410",
     "status": "completed"
    },
    "tags": []
   },
   "outputs": [
    {
     "name": "stdout",
     "output_type": "stream",
     "text": [
      "[0 0 1 0 0 0 0 0 0 0 0 1 1 0 0 1 0 0 1 0 1 1 0 1 0 1 1 0 0 0 0 0 0 0 0 1 1\n",
      " 0 0 0 0 0 1 0 0 1 1 0 0 1 0 0 0 0 0 0 1 0 0 0 1 0 0 0 1 0 1 0 0 0 1 0 1 0\n",
      " 1 0 0 0 1 0 1 0 0 0 1 1 0 0 1 0 0 0 0 0 0 1 0 1 0 0 1 0 1 1 0 1 1 0 0 0 0\n",
      " 0 0 0 1 1 0 1 0 0 1 0 0 0 0 0 0 1 0 0 0 0 1 1 0 0 0 0 0 0 1 1 1 1 0 1 0 0\n",
      " 0 1 0 0 0 0 1 0 0 1 1 0 1 0 0 0 1 1 0 0 1 0 0 1 1 1 0 0 0 0 0]\n"
     ]
    }
   ],
   "source": [
    "\n",
    "print(X_test_prediction)"
   ]
  },
  {
   "cell_type": "code",
   "execution_count": 44,
   "id": "bab14a3c",
   "metadata": {
    "execution": {
     "iopub.execute_input": "2023-08-17T16:22:38.309544Z",
     "iopub.status.busy": "2023-08-17T16:22:38.309132Z",
     "iopub.status.idle": "2023-08-17T16:22:38.316710Z",
     "shell.execute_reply": "2023-08-17T16:22:38.315485Z"
    },
    "papermill": {
     "duration": 0.036169,
     "end_time": "2023-08-17T16:22:38.319540",
     "exception": false,
     "start_time": "2023-08-17T16:22:38.283371",
     "status": "completed"
    },
    "tags": []
   },
   "outputs": [
    {
     "name": "stdout",
     "output_type": "stream",
     "text": [
      "Accuracy score of test data :  0.7821229050279329\n"
     ]
    }
   ],
   "source": [
    "test_data_accuracy = accuracy_score(Y_test, X_test_prediction)\n",
    "print('Accuracy score of test data : ', test_data_accuracy)\n",
    "     "
   ]
  },
  {
   "cell_type": "code",
   "execution_count": null,
   "id": "0d0c85cf",
   "metadata": {
    "papermill": {
     "duration": 0.023969,
     "end_time": "2023-08-17T16:22:38.367888",
     "exception": false,
     "start_time": "2023-08-17T16:22:38.343919",
     "status": "completed"
    },
    "tags": []
   },
   "outputs": [],
   "source": []
  }
 ],
 "metadata": {
  "kernelspec": {
   "display_name": "Python 3 (ipykernel)",
   "language": "python",
   "name": "python3"
  },
  "language_info": {
   "codemirror_mode": {
    "name": "ipython",
    "version": 3
   },
   "file_extension": ".py",
   "mimetype": "text/x-python",
   "name": "python",
   "nbconvert_exporter": "python",
   "pygments_lexer": "ipython3",
   "version": "3.10.9"
  },
  "papermill": {
   "default_parameters": {},
   "duration": 19.527281,
   "end_time": "2023-08-17T16:22:39.415262",
   "environment_variables": {},
   "exception": null,
   "input_path": "__notebook__.ipynb",
   "output_path": "__notebook__.ipynb",
   "parameters": {},
   "start_time": "2023-08-17T16:22:19.887981",
   "version": "2.4.0"
  }
 },
 "nbformat": 4,
 "nbformat_minor": 5
}
